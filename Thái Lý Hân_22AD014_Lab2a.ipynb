{
 "cells": [
  {
   "cell_type": "code",
   "execution_count": 23,
   "metadata": {},
   "outputs": [],
   "source": [
    "import numpy as np\n",
    "import matplotlib.pyplot as plt"
   ]
  },
  {
   "cell_type": "markdown",
   "metadata": {},
   "source": [
    "***Câu 1***\n",
    "a)"
   ]
  },
  {
   "cell_type": "code",
   "execution_count": 6,
   "metadata": {},
   "outputs": [
    {
     "name": "stdout",
     "output_type": "stream",
     "text": [
      "Transposed Matrix:\n",
      "[[1 4]\n",
      " [2 5]\n",
      " [3 6]]\n"
     ]
    }
   ],
   "source": [
    "def transpose_matrix(matrix):\n",
    "    return np.transpose(matrix)\n",
    "\n",
    "matrix = np.array([[1, 2, 3], [4, 5, 6]])\n",
    "transposed_matrix = transpose_matrix(matrix)\n",
    "print(f\"Transposed Matrix:\\n{transposed_matrix}\")"
   ]
  },
  {
   "cell_type": "code",
   "execution_count": 7,
   "metadata": {},
   "outputs": [
    {
     "name": "stdout",
     "output_type": "stream",
     "text": [
      "Sum of Matrices:\n",
      "[[ 8 10 12]\n",
      " [14 16 18]]\n"
     ]
    }
   ],
   "source": [
    "def add_matrices(matrix1, matrix2):\n",
    "    return np.add(matrix1, matrix2)\n",
    "\n",
    "matrix1 = np.array([[1, 2, 3], [4, 5, 6]])\n",
    "matrix2 = np.array([[7, 8, 9], [10, 11, 12]])\n",
    "result_matrix = add_matrices(matrix1, matrix2)\n",
    "print(f\"Sum of Matrices:\\n{result_matrix}\")"
   ]
  },
  {
   "cell_type": "code",
   "execution_count": 8,
   "metadata": {},
   "outputs": [
    {
     "name": "stdout",
     "output_type": "stream",
     "text": [
      "Matrix Multiplication Result:\n",
      "[[ 38  44  50  56]\n",
      " [ 83  98 113 128]]\n"
     ]
    }
   ],
   "source": [
    "def multiply_matrices(matrix1, matrix2):\n",
    "    return np.matmul(matrix1, matrix2)\n",
    "\n",
    "matrix1 = np.array([[1, 2, 3], [4, 5, 6]])\n",
    "matrix2 = np.array([[1, 2, 3, 4], [5, 6, 7, 8], [9, 10, 11, 12]])\n",
    "result_matrix = multiply_matrices(matrix1, matrix2)\n",
    "print(f\"Matrix Multiplication Result:\\n{result_matrix}\")"
   ]
  },
  {
   "cell_type": "markdown",
   "metadata": {},
   "source": [
    "b)"
   ]
  },
  {
   "cell_type": "code",
   "execution_count": 11,
   "metadata": {},
   "outputs": [
    {
     "name": "stdout",
     "output_type": "stream",
     "text": [
      "Manually Transposed Matrix:\n",
      "[[1, 4], [2, 5], [3, 6]]\n"
     ]
    }
   ],
   "source": [
    "def transpose_matrix_manual(matrix):\n",
    "    rows, cols = len(matrix), len(matrix[0])\n",
    "    transposed = [[matrix[row][col] for row in range(rows)] for col in range(cols)]\n",
    "    return transposed\n",
    "\n",
    "matrix = [[1, 2, 3], [4, 5, 6]]\n",
    "transposed_matrix = transpose_matrix_manual(matrix)\n",
    "print(f\"Manually Transposed Matrix:\\n{transposed_matrix}\")"
   ]
  },
  {
   "cell_type": "code",
   "execution_count": 12,
   "metadata": {},
   "outputs": [
    {
     "name": "stdout",
     "output_type": "stream",
     "text": [
      "Manually Added Matrices:\n",
      "[[8, 10, 12], [14, 16, 18]]\n"
     ]
    }
   ],
   "source": [
    "def add_matrices_manual(matrix1, matrix2):\n",
    "    rows, cols = len(matrix1), len(matrix1[0])\n",
    "    result = [[matrix1[row][col] + matrix2[row][col] for col in range(cols)] for row in range(rows)]\n",
    "    return result\n",
    "\n",
    "matrix1 = [[1, 2, 3], [4, 5, 6]]\n",
    "matrix2 = [[7, 8, 9], [10, 11, 12]]\n",
    "result_matrix = add_matrices_manual(matrix1, matrix2)\n",
    "print(f\"Manually Added Matrices:\\n{result_matrix}\")"
   ]
  },
  {
   "cell_type": "code",
   "execution_count": 17,
   "metadata": {},
   "outputs": [
    {
     "name": "stdout",
     "output_type": "stream",
     "text": [
      "Manually Multiplied Matrix (2x3 * 3x4):\n",
      "[[38, 44, 50, 56], [83, 98, 113, 128]]\n"
     ]
    }
   ],
   "source": [
    "def multiply_matrices_manual(matrix1, matrix2):\n",
    "    rows1, cols1 = len(matrix1), len(matrix1[0])\n",
    "    rows2, cols2 = len(matrix2), len(matrix2[0])\n",
    "\n",
    "    if cols1 != rows2:\n",
    "        raise ValueError(\"Matrices dimensions are not compatible for multiplication\")\n",
    "    \n",
    "    result = [[0 for _ in range(cols2)] for _ in range(rows1)]\n",
    "\n",
    "    for i in range(rows1):\n",
    "        for j in range(cols2):\n",
    "            for k in range(cols1):\n",
    "                result[i][j] += matrix1[i][k] * matrix2[k][j]\n",
    "\n",
    "    return result\n",
    "\n",
    "matrix1 = [[1, 2, 3], [4, 5, 6]]\n",
    "matrix2 = [[1, 2, 3, 4], [5, 6, 7, 8], [9, 10, 11, 12]]\n",
    "\n",
    "result_matrix = multiply_matrices_manual(matrix1, matrix2)\n",
    "\n",
    "print(f\"Manually Multiplied Matrix (2x3 * 3x4):\\n{result_matrix}\")\n"
   ]
  },
  {
   "cell_type": "markdown",
   "metadata": {},
   "source": [
    "c)"
   ]
  },
  {
   "cell_type": "code",
   "execution_count": 18,
   "metadata": {},
   "outputs": [
    {
     "name": "stdout",
     "output_type": "stream",
     "text": [
      "Matrices dimensions are not compatible for multiplication\n"
     ]
    }
   ],
   "source": [
    "def multiply_matrices(matrix1, matrix2):\n",
    "    rows1, cols1 = matrix1.shape\n",
    "    rows2, cols2 = matrix2.shape\n",
    "    if cols1 != rows2:\n",
    "        raise ValueError(\"Matrices dimensions are not compatible for multiplication\")\n",
    "    return np.matmul(matrix1, matrix2)\n",
    "\n",
    "matrix1 = np.array([[1, 2, 3], [4, 5, 6]])\n",
    "matrix2 = np.array([[1, 2, 3], [4, 5, 6]])\n",
    "try:\n",
    "    result_matrix = multiply_matrices(matrix1, matrix2)\n",
    "    print(f\"Matrix Multiplication Result:\\n{result_matrix}\")\n",
    "except ValueError as e:\n",
    "    print(e)"
   ]
  },
  {
   "cell_type": "markdown",
   "metadata": {},
   "source": [
    "d)"
   ]
  },
  {
   "cell_type": "code",
   "execution_count": 20,
   "metadata": {},
   "outputs": [
    {
     "name": "stdout",
     "output_type": "stream",
     "text": [
      "Manual functions produce correct results.\n"
     ]
    }
   ],
   "source": [
    "def validate_functions(matrix):\n",
    "    built_in_transpose = np.transpose(matrix)\n",
    "    manual_transpose = transpose_matrix_manual(matrix)\n",
    "    if not np.array_equal(built_in_transpose, manual_transpose):\n",
    "        return False\n",
    "    \n",
    "    matrix1 = np.array([[1, 2, 3], [4, 5, 6]])\n",
    "    matrix2 = np.array([[7, 8, 9], [10, 11, 12]])\n",
    "    built_in_add = np.add(matrix1, matrix2)\n",
    "    manual_add = add_matrices_manual(matrix1, matrix2)\n",
    "    if not np.array_equal(built_in_add, manual_add):\n",
    "        return False\n",
    "    \n",
    "    matrix1 = np.array([[1, 2, 3], [4, 5, 6]])\n",
    "    matrix2 = np.array([[1, 2, 3, 4], [5, 6, 7, 8], [9, 10, 11, 12]])\n",
    "    built_in_multiply = np.matmul(matrix1, matrix2)\n",
    "    manual_multiply = multiply_matrices_manual(matrix1, matrix2)\n",
    "    if not np.array_equal(built_in_multiply, manual_multiply):\n",
    "        return False\n",
    "    \n",
    "    return True\n",
    "\n",
    "matrix = np.array([[1, 2, 3], [4, 5, 6]])\n",
    "if validate_functions(matrix):\n",
    "    print(\"Manual functions produce correct results.\")\n",
    "else:\n",
    "    print(\"Manual functions do not match built-in functions.\")\n"
   ]
  },
  {
   "cell_type": "markdown",
   "metadata": {},
   "source": [
    "***Câu 2***\n",
    "a)"
   ]
  },
  {
   "cell_type": "code",
   "execution_count": 22,
   "metadata": {},
   "outputs": [
    {
     "name": "stdout",
     "output_type": "stream",
     "text": [
      "Solution: x1 = 0.0, x2 = 3.5\n"
     ]
    }
   ],
   "source": [
    "Last_stuID = 14\n",
    "\n",
    "A = np.array([[4, 4], [2, -4]])\n",
    "b = np.array([Last_stuID, -Last_stuID])\n",
    "\n",
    "solution = np.linalg.solve(A, b)\n",
    "x1, x2 = solution\n",
    "\n",
    "print(f\"Solution: x1 = {x1}, x2 = {x2}\")"
   ]
  },
  {
   "cell_type": "markdown",
   "metadata": {},
   "source": [
    "b)"
   ]
  },
  {
   "cell_type": "code",
   "execution_count": 24,
   "metadata": {},
   "outputs": [
    {
     "data": {
      "image/png": "[encoded data removed]",
      "text/plain": [
       "<Figure size 800x600 with 1 Axes>"
      ]
     },
     "metadata": {},
     "output_type": "display_data"
    }
   ],
   "source": [
    "def equation1(x1):\n",
    "    return (Last_stuID - 4*x1) / 4\n",
    "\n",
    "def equation2(x1):\n",
    "    return (-Last_stuID - 2*x1) / -4\n",
    "\n",
    "x1_values = np.linspace(-Last_stuID, Last_stuID, 400)\n",
    "x2_values_eq1 = equation1(x1_values)\n",
    "x2_values_eq2 = equation2(x1_values)\n",
    "\n",
    "plt.figure(figsize=(8, 6))\n",
    "plt.plot(x1_values, x2_values_eq1, label=r'$4x_1 + 4x_2 = \\text{Last\\_stuID}$')\n",
    "plt.plot(x1_values, x2_values_eq2, label=r'$2x_1 - 4x_2 = -\\text{Last\\_stuID}$')\n",
    "\n",
    "plt.plot(x1, x2, 'ro', label=f'Solution: x1 = {x1:.2f}, x2 = {x2:.2f}')\n",
    "\n",
    "plt.xlabel('x1')\n",
    "plt.ylabel('x2')\n",
    "plt.axhline(0, color='black',linewidth=0.5)\n",
    "plt.axvline(0, color='black',linewidth=0.5)\n",
    "plt.legend()\n",
    "plt.grid(True)\n",
    "plt.title('Intersection of the Lines - Solution of the System')\n",
    "plt.show()\n"
   ]
  },
  {
   "cell_type": "markdown",
   "metadata": {},
   "source": [
    "***Câu 3***"
   ]
  },
  {
   "cell_type": "code",
   "execution_count": 25,
   "metadata": {},
   "outputs": [
    {
     "name": "stdout",
     "output_type": "stream",
     "text": [
      "Solution: x1 = 0.6666666666666661, x2 = 2.0000000000000004, x3 = 2.666666666666667\n"
     ]
    },
    {
     "data": {
      "text/plain": [
       "array([0.66666667, 2.        , 2.66666667])"
      ]
     },
     "execution_count": 25,
     "metadata": {},
     "output_type": "execute_result"
    }
   ],
   "source": [
    "def solve_linear_system_3x3(A, b):\n",
    "    try:\n",
    "        solution = np.linalg.solve(A, b)\n",
    "        x1, x2, x3 = solution\n",
    "        print(f\"Solution: x1 = {x1}, x2 = {x2}, x3 = {x3}\")\n",
    "        return solution\n",
    "    except np.linalg.LinAlgError as e:\n",
    "        print(\"The system cannot be solved:\", e)\n",
    "        return None\n",
    "\n",
    "# 2x1 + 3x2 + 1x3 = 10\n",
    "# 1x1 + 1x2 + 2x3 = 8\n",
    "# 3x1 + 2x2 + 3x3 = 14\n",
    "\n",
    "A = np.array([\n",
    "    [2, 3, 1],\n",
    "    [1, 1, 2],\n",
    "    [3, 2, 3]\n",
    "])\n",
    "\n",
    "b = np.array([10, 8, 14])\n",
    "\n",
    "solve_linear_system_3x3(A, b)\n"
   ]
  }
 ],
 "metadata": {
  "kernelspec": {
   "display_name": "Python 3",
   "language": "python",
   "name": "python3"
  },
  "language_info": {
   "codemirror_mode": {
    "name": "ipython",
    "version": 3
   },
   "file_extension": ".py",
   "mimetype": "text/x-python",
   "name": "python",
   "nbconvert_exporter": "python",
   "pygments_lexer": "ipython3",
   "version": "3.10.4"
  }
 },
 "nbformat": 4,
 "nbformat_minor": 2
}
