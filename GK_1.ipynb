{
 "cells": [
  {
   "cell_type": "code",
   "execution_count": 1,
   "metadata": {
    "colab": {
     "base_uri": "https://localhost:8080/",
     "height": 423
    },
    "id": "9MEFebOle_Ca",
    "outputId": "b0a23980-3829-441b-869a-a59032881b0f"
   },
   "outputs": [
    {
     "data": {
      "text/html": [
       "<div>\n",
       "<style scoped>\n",
       "    .dataframe tbody tr th:only-of-type {\n",
       "        vertical-align: middle;\n",
       "    }\n",
       "\n",
       "    .dataframe tbody tr th {\n",
       "        vertical-align: top;\n",
       "    }\n",
       "\n",
       "    .dataframe thead th {\n",
       "        text-align: right;\n",
       "    }\n",
       "</style>\n",
       "<table border=\"1\" class=\"dataframe\">\n",
       "  <thead>\n",
       "    <tr style=\"text-align: right;\">\n",
       "      <th></th>\n",
       "      <th>MODELYEAR</th>\n",
       "      <th>MAKE</th>\n",
       "      <th>MODEL</th>\n",
       "      <th>VEHICLECLASS</th>\n",
       "      <th>ENGINESIZE</th>\n",
       "      <th>FUELCONSUMPTION</th>\n",
       "      <th>CO2EMISSIONS</th>\n",
       "    </tr>\n",
       "  </thead>\n",
       "  <tbody>\n",
       "    <tr>\n",
       "      <th>0</th>\n",
       "      <td>2014</td>\n",
       "      <td>ACURA</td>\n",
       "      <td>ILX</td>\n",
       "      <td>COMPACT</td>\n",
       "      <td>2.0</td>\n",
       "      <td>6.7</td>\n",
       "      <td>196</td>\n",
       "    </tr>\n",
       "    <tr>\n",
       "      <th>1</th>\n",
       "      <td>2014</td>\n",
       "      <td>ACURA</td>\n",
       "      <td>ILX</td>\n",
       "      <td>COMPACT</td>\n",
       "      <td>2.4</td>\n",
       "      <td>7.7</td>\n",
       "      <td>221</td>\n",
       "    </tr>\n",
       "    <tr>\n",
       "      <th>2</th>\n",
       "      <td>2014</td>\n",
       "      <td>ACURA</td>\n",
       "      <td>ILX HYBRID</td>\n",
       "      <td>COMPACT</td>\n",
       "      <td>1.5</td>\n",
       "      <td>5.8</td>\n",
       "      <td>136</td>\n",
       "    </tr>\n",
       "    <tr>\n",
       "      <th>3</th>\n",
       "      <td>2014</td>\n",
       "      <td>ACURA</td>\n",
       "      <td>MDX 4WD</td>\n",
       "      <td>SUV - SMALL</td>\n",
       "      <td>3.5</td>\n",
       "      <td>9.1</td>\n",
       "      <td>255</td>\n",
       "    </tr>\n",
       "    <tr>\n",
       "      <th>4</th>\n",
       "      <td>2014</td>\n",
       "      <td>ACURA</td>\n",
       "      <td>RDX AWD</td>\n",
       "      <td>SUV - SMALL</td>\n",
       "      <td>3.5</td>\n",
       "      <td>8.7</td>\n",
       "      <td>244</td>\n",
       "    </tr>\n",
       "    <tr>\n",
       "      <th>...</th>\n",
       "      <td>...</td>\n",
       "      <td>...</td>\n",
       "      <td>...</td>\n",
       "      <td>...</td>\n",
       "      <td>...</td>\n",
       "      <td>...</td>\n",
       "      <td>...</td>\n",
       "    </tr>\n",
       "    <tr>\n",
       "      <th>1062</th>\n",
       "      <td>2014</td>\n",
       "      <td>VOLVO</td>\n",
       "      <td>XC60 AWD</td>\n",
       "      <td>SUV - SMALL</td>\n",
       "      <td>3.0</td>\n",
       "      <td>9.8</td>\n",
       "      <td>271</td>\n",
       "    </tr>\n",
       "    <tr>\n",
       "      <th>1063</th>\n",
       "      <td>2014</td>\n",
       "      <td>VOLVO</td>\n",
       "      <td>XC60 AWD</td>\n",
       "      <td>SUV - SMALL</td>\n",
       "      <td>3.2</td>\n",
       "      <td>9.5</td>\n",
       "      <td>264</td>\n",
       "    </tr>\n",
       "    <tr>\n",
       "      <th>1064</th>\n",
       "      <td>2014</td>\n",
       "      <td>VOLVO</td>\n",
       "      <td>XC70 AWD</td>\n",
       "      <td>SUV - SMALL</td>\n",
       "      <td>3.0</td>\n",
       "      <td>9.8</td>\n",
       "      <td>271</td>\n",
       "    </tr>\n",
       "    <tr>\n",
       "      <th>1065</th>\n",
       "      <td>2014</td>\n",
       "      <td>VOLVO</td>\n",
       "      <td>XC70 AWD</td>\n",
       "      <td>SUV - SMALL</td>\n",
       "      <td>3.2</td>\n",
       "      <td>9.3</td>\n",
       "      <td>260</td>\n",
       "    </tr>\n",
       "    <tr>\n",
       "      <th>1066</th>\n",
       "      <td>2014</td>\n",
       "      <td>VOLVO</td>\n",
       "      <td>XC90 AWD</td>\n",
       "      <td>SUV - STANDARD</td>\n",
       "      <td>3.2</td>\n",
       "      <td>10.2</td>\n",
       "      <td>294</td>\n",
       "    </tr>\n",
       "  </tbody>\n",
       "</table>\n",
       "<p>1067 rows × 7 columns</p>\n",
       "</div>"
      ],
      "text/plain": [
       "      MODELYEAR   MAKE       MODEL    VEHICLECLASS  ENGINESIZE  \\\n",
       "0          2014  ACURA         ILX         COMPACT         2.0   \n",
       "1          2014  ACURA         ILX         COMPACT         2.4   \n",
       "2          2014  ACURA  ILX HYBRID         COMPACT         1.5   \n",
       "3          2014  ACURA     MDX 4WD     SUV - SMALL         3.5   \n",
       "4          2014  ACURA     RDX AWD     SUV - SMALL         3.5   \n",
       "...         ...    ...         ...             ...         ...   \n",
       "1062       2014  VOLVO    XC60 AWD     SUV - SMALL         3.0   \n",
       "1063       2014  VOLVO    XC60 AWD     SUV - SMALL         3.2   \n",
       "1064       2014  VOLVO    XC70 AWD     SUV - SMALL         3.0   \n",
       "1065       2014  VOLVO    XC70 AWD     SUV - SMALL         3.2   \n",
       "1066       2014  VOLVO    XC90 AWD  SUV - STANDARD         3.2   \n",
       "\n",
       "      FUELCONSUMPTION  CO2EMISSIONS  \n",
       "0                 6.7           196  \n",
       "1                 7.7           221  \n",
       "2                 5.8           136  \n",
       "3                 9.1           255  \n",
       "4                 8.7           244  \n",
       "...               ...           ...  \n",
       "1062              9.8           271  \n",
       "1063              9.5           264  \n",
       "1064              9.8           271  \n",
       "1065              9.3           260  \n",
       "1066             10.2           294  \n",
       "\n",
       "[1067 rows x 7 columns]"
      ]
     },
     "execution_count": 1,
     "metadata": {},
     "output_type": "execute_result"
    }
   ],
   "source": [
    "import pandas as pd\n",
    "\n",
    "df = pd.read_csv('FuelConsumptionCo2.csv')\n",
    "df"
   ]
  },
  {
   "cell_type": "code",
   "execution_count": 2,
   "metadata": {
    "id": "pVDuzobFgJaJ"
   },
   "outputs": [],
   "source": [
    "import numpy as np\n",
    "import pandas as pd\n",
    "import seaborn as sns\n",
    "import matplotlib.pyplot as plt"
   ]
  },
  {
   "cell_type": "code",
   "execution_count": 3,
   "metadata": {
    "colab": {
     "base_uri": "https://localhost:8080/"
    },
    "id": "yyx2UBpygLjf",
    "outputId": "ca6a89c4-1e7a-4b50-a735-f5483328c159"
   },
   "outputs": [
    {
     "name": "stdout",
     "output_type": "stream",
     "text": [
      "<class 'pandas.core.frame.DataFrame'>\n",
      "RangeIndex: 1067 entries, 0 to 1066\n",
      "Data columns (total 7 columns):\n",
      " #   Column           Non-Null Count  Dtype  \n",
      "---  ------           --------------  -----  \n",
      " 0   MODELYEAR        1067 non-null   int64  \n",
      " 1   MAKE             1067 non-null   object \n",
      " 2   MODEL            1067 non-null   object \n",
      " 3   VEHICLECLASS     1067 non-null   object \n",
      " 4   ENGINESIZE       1067 non-null   float64\n",
      " 5   FUELCONSUMPTION  1067 non-null   float64\n",
      " 6   CO2EMISSIONS     1067 non-null   int64  \n",
      "dtypes: float64(2), int64(2), object(3)\n",
      "memory usage: 58.5+ KB\n"
     ]
    }
   ],
   "source": [
    "df.info()"
   ]
  },
  {
   "cell_type": "code",
   "execution_count": 4,
   "metadata": {
    "colab": {
     "base_uri": "https://localhost:8080/",
     "height": 300
    },
    "id": "_aWo6VRJgQPf",
    "outputId": "913ea985-a545-4008-dda0-aa446fe2f50b"
   },
   "outputs": [
    {
     "data": {
      "text/html": [
       "<div>\n",
       "<style scoped>\n",
       "    .dataframe tbody tr th:only-of-type {\n",
       "        vertical-align: middle;\n",
       "    }\n",
       "\n",
       "    .dataframe tbody tr th {\n",
       "        vertical-align: top;\n",
       "    }\n",
       "\n",
       "    .dataframe thead th {\n",
       "        text-align: right;\n",
       "    }\n",
       "</style>\n",
       "<table border=\"1\" class=\"dataframe\">\n",
       "  <thead>\n",
       "    <tr style=\"text-align: right;\">\n",
       "      <th></th>\n",
       "      <th>MODELYEAR</th>\n",
       "      <th>ENGINESIZE</th>\n",
       "      <th>FUELCONSUMPTION</th>\n",
       "      <th>CO2EMISSIONS</th>\n",
       "    </tr>\n",
       "  </thead>\n",
       "  <tbody>\n",
       "    <tr>\n",
       "      <th>count</th>\n",
       "      <td>1067.0</td>\n",
       "      <td>1067.000000</td>\n",
       "      <td>1067.000000</td>\n",
       "      <td>1067.000000</td>\n",
       "    </tr>\n",
       "    <tr>\n",
       "      <th>mean</th>\n",
       "      <td>2014.0</td>\n",
       "      <td>3.346298</td>\n",
       "      <td>9.474602</td>\n",
       "      <td>256.228679</td>\n",
       "    </tr>\n",
       "    <tr>\n",
       "      <th>std</th>\n",
       "      <td>0.0</td>\n",
       "      <td>1.415895</td>\n",
       "      <td>2.794510</td>\n",
       "      <td>63.372304</td>\n",
       "    </tr>\n",
       "    <tr>\n",
       "      <th>min</th>\n",
       "      <td>2014.0</td>\n",
       "      <td>1.000000</td>\n",
       "      <td>4.900000</td>\n",
       "      <td>108.000000</td>\n",
       "    </tr>\n",
       "    <tr>\n",
       "      <th>25%</th>\n",
       "      <td>2014.0</td>\n",
       "      <td>2.000000</td>\n",
       "      <td>7.500000</td>\n",
       "      <td>207.000000</td>\n",
       "    </tr>\n",
       "    <tr>\n",
       "      <th>50%</th>\n",
       "      <td>2014.0</td>\n",
       "      <td>3.400000</td>\n",
       "      <td>8.800000</td>\n",
       "      <td>251.000000</td>\n",
       "    </tr>\n",
       "    <tr>\n",
       "      <th>75%</th>\n",
       "      <td>2014.0</td>\n",
       "      <td>4.300000</td>\n",
       "      <td>10.850000</td>\n",
       "      <td>294.000000</td>\n",
       "    </tr>\n",
       "    <tr>\n",
       "      <th>max</th>\n",
       "      <td>2014.0</td>\n",
       "      <td>8.400000</td>\n",
       "      <td>20.500000</td>\n",
       "      <td>488.000000</td>\n",
       "    </tr>\n",
       "  </tbody>\n",
       "</table>\n",
       "</div>"
      ],
      "text/plain": [
       "       MODELYEAR   ENGINESIZE  FUELCONSUMPTION  CO2EMISSIONS\n",
       "count     1067.0  1067.000000      1067.000000   1067.000000\n",
       "mean      2014.0     3.346298         9.474602    256.228679\n",
       "std          0.0     1.415895         2.794510     63.372304\n",
       "min       2014.0     1.000000         4.900000    108.000000\n",
       "25%       2014.0     2.000000         7.500000    207.000000\n",
       "50%       2014.0     3.400000         8.800000    251.000000\n",
       "75%       2014.0     4.300000        10.850000    294.000000\n",
       "max       2014.0     8.400000        20.500000    488.000000"
      ]
     },
     "execution_count": 4,
     "metadata": {},
     "output_type": "execute_result"
    }
   ],
   "source": [
    "df.describe()"
   ]
  },
  {
   "cell_type": "code",
   "execution_count": 5,
   "metadata": {
    "colab": {
     "base_uri": "https://localhost:8080/",
     "height": 303
    },
    "id": "zSvolKfJgjLw",
    "outputId": "ba60a79c-a13b-448c-c9ec-9bfa13d3b447"
   },
   "outputs": [
    {
     "data": {
      "text/plain": [
       "MODELYEAR          0\n",
       "MAKE               0\n",
       "MODEL              0\n",
       "VEHICLECLASS       0\n",
       "ENGINESIZE         0\n",
       "FUELCONSUMPTION    0\n",
       "CO2EMISSIONS       0\n",
       "dtype: int64"
      ]
     },
     "execution_count": 5,
     "metadata": {},
     "output_type": "execute_result"
    }
   ],
   "source": [
    "df.isnull().sum()"
   ]
  },
  {
   "cell_type": "code",
   "execution_count": 6,
   "metadata": {
    "colab": {
     "base_uri": "https://localhost:8080/"
    },
    "id": "fvUA7sWJhcZk",
    "outputId": "ec1b7c18-2947-411a-e34c-353275416f5c"
   },
   "outputs": [
    {
     "name": "stdout",
     "output_type": "stream",
     "text": [
      "   MODELYEAR  MAKE  MODEL  VEHICLECLASS  ENGINESIZE  FUELCONSUMPTION  \\\n",
      "0       2014     0    329             0         2.0              6.7   \n",
      "1       2014     0    329             0         2.4              7.7   \n",
      "2       2014     0    330             0         1.5              5.8   \n",
      "3       2014     0    389            11         3.5              9.1   \n",
      "4       2014     0    483            11         3.5              8.7   \n",
      "\n",
      "   CO2EMISSIONS  \n",
      "0           196  \n",
      "1           221  \n",
      "2           136  \n",
      "3           255  \n",
      "4           244  \n"
     ]
    }
   ],
   "source": [
    "import pandas as pd\n",
    "import numpy as np\n",
    "\n",
    "df_numeric = df.copy()\n",
    "\n",
    "for column in df_numeric.columns:\n",
    "    if df_numeric[column].dtype == 'object':  \n",
    "        unique_values = np.unique(df_numeric[column]) \n",
    "        value_to_int = {value: idx for idx, value in enumerate(unique_values)}  \n",
    "        df_numeric[column] = df_numeric[column].map(value_to_int) \n",
    "\n",
    "print(df_numeric.head())\n"
   ]
  },
  {
   "cell_type": "code",
   "execution_count": 7,
   "metadata": {
    "colab": {
     "base_uri": "https://localhost:8080/",
     "height": 206
    },
    "id": "SmnTOpuahjLD",
    "outputId": "0ae911a9-e662-4c5a-98ef-b4bfb27591d0"
   },
   "outputs": [
    {
     "data": {
      "text/html": [
       "<div>\n",
       "<style scoped>\n",
       "    .dataframe tbody tr th:only-of-type {\n",
       "        vertical-align: middle;\n",
       "    }\n",
       "\n",
       "    .dataframe tbody tr th {\n",
       "        vertical-align: top;\n",
       "    }\n",
       "\n",
       "    .dataframe thead th {\n",
       "        text-align: right;\n",
       "    }\n",
       "</style>\n",
       "<table border=\"1\" class=\"dataframe\">\n",
       "  <thead>\n",
       "    <tr style=\"text-align: right;\">\n",
       "      <th></th>\n",
       "      <th>MODELYEAR</th>\n",
       "      <th>MAKE</th>\n",
       "      <th>MODEL</th>\n",
       "      <th>VEHICLECLASS</th>\n",
       "      <th>ENGINESIZE</th>\n",
       "      <th>FUELCONSUMPTION</th>\n",
       "      <th>CO2EMISSIONS</th>\n",
       "    </tr>\n",
       "  </thead>\n",
       "  <tbody>\n",
       "    <tr>\n",
       "      <th>0</th>\n",
       "      <td>2014</td>\n",
       "      <td>ACURA</td>\n",
       "      <td>ILX</td>\n",
       "      <td>COMPACT</td>\n",
       "      <td>2.0</td>\n",
       "      <td>6.7</td>\n",
       "      <td>196</td>\n",
       "    </tr>\n",
       "    <tr>\n",
       "      <th>1</th>\n",
       "      <td>2014</td>\n",
       "      <td>ACURA</td>\n",
       "      <td>ILX</td>\n",
       "      <td>COMPACT</td>\n",
       "      <td>2.4</td>\n",
       "      <td>7.7</td>\n",
       "      <td>221</td>\n",
       "    </tr>\n",
       "    <tr>\n",
       "      <th>2</th>\n",
       "      <td>2014</td>\n",
       "      <td>ACURA</td>\n",
       "      <td>ILX HYBRID</td>\n",
       "      <td>COMPACT</td>\n",
       "      <td>1.5</td>\n",
       "      <td>5.8</td>\n",
       "      <td>136</td>\n",
       "    </tr>\n",
       "    <tr>\n",
       "      <th>3</th>\n",
       "      <td>2014</td>\n",
       "      <td>ACURA</td>\n",
       "      <td>MDX 4WD</td>\n",
       "      <td>SUV - SMALL</td>\n",
       "      <td>3.5</td>\n",
       "      <td>9.1</td>\n",
       "      <td>255</td>\n",
       "    </tr>\n",
       "    <tr>\n",
       "      <th>4</th>\n",
       "      <td>2014</td>\n",
       "      <td>ACURA</td>\n",
       "      <td>RDX AWD</td>\n",
       "      <td>SUV - SMALL</td>\n",
       "      <td>3.5</td>\n",
       "      <td>8.7</td>\n",
       "      <td>244</td>\n",
       "    </tr>\n",
       "  </tbody>\n",
       "</table>\n",
       "</div>"
      ],
      "text/plain": [
       "   MODELYEAR   MAKE       MODEL VEHICLECLASS  ENGINESIZE  FUELCONSUMPTION  \\\n",
       "0       2014  ACURA         ILX      COMPACT         2.0              6.7   \n",
       "1       2014  ACURA         ILX      COMPACT         2.4              7.7   \n",
       "2       2014  ACURA  ILX HYBRID      COMPACT         1.5              5.8   \n",
       "3       2014  ACURA     MDX 4WD  SUV - SMALL         3.5              9.1   \n",
       "4       2014  ACURA     RDX AWD  SUV - SMALL         3.5              8.7   \n",
       "\n",
       "   CO2EMISSIONS  \n",
       "0           196  \n",
       "1           221  \n",
       "2           136  \n",
       "3           255  \n",
       "4           244  "
      ]
     },
     "execution_count": 7,
     "metadata": {},
     "output_type": "execute_result"
    }
   ],
   "source": [
    "df.head()"
   ]
  },
  {
   "cell_type": "code",
   "execution_count": 8,
   "metadata": {
    "colab": {
     "base_uri": "https://localhost:8080/"
    },
    "id": "PJDmVscnhtBV",
    "outputId": "89d7bc03-1a89-425e-bfe1-fdaaf68c1007"
   },
   "outputs": [
    {
     "name": "stdout",
     "output_type": "stream",
     "text": [
      "<class 'pandas.core.frame.DataFrame'>\n",
      "RangeIndex: 1067 entries, 0 to 1066\n",
      "Data columns (total 7 columns):\n",
      " #   Column           Non-Null Count  Dtype  \n",
      "---  ------           --------------  -----  \n",
      " 0   MODELYEAR        1067 non-null   int64  \n",
      " 1   MAKE             1067 non-null   int64  \n",
      " 2   MODEL            1067 non-null   int64  \n",
      " 3   VEHICLECLASS     1067 non-null   int64  \n",
      " 4   ENGINESIZE       1067 non-null   float64\n",
      " 5   FUELCONSUMPTION  1067 non-null   float64\n",
      " 6   CO2EMISSIONS     1067 non-null   int64  \n",
      "dtypes: float64(2), int64(5)\n",
      "memory usage: 58.5 KB\n"
     ]
    }
   ],
   "source": [
    "df_numeric.info()"
   ]
  },
  {
   "cell_type": "code",
   "execution_count": 9,
   "metadata": {
    "id": "JUOoNoWHh4xd"
   },
   "outputs": [],
   "source": [
    "X = df_numeric[['MODELYEAR', 'MAKE', 'MODEL', 'VEHICLECLASS', 'ENGINESIZE', 'FUELCONSUMPTION']]"
   ]
  },
  {
   "cell_type": "code",
   "execution_count": 10,
   "metadata": {
    "colab": {
     "base_uri": "https://localhost:8080/",
     "height": 423
    },
    "id": "p5sLBYSaiUsZ",
    "outputId": "652965f8-c4c2-47f7-d376-a81e72dc79d0"
   },
   "outputs": [
    {
     "data": {
      "text/html": [
       "<div>\n",
       "<style scoped>\n",
       "    .dataframe tbody tr th:only-of-type {\n",
       "        vertical-align: middle;\n",
       "    }\n",
       "\n",
       "    .dataframe tbody tr th {\n",
       "        vertical-align: top;\n",
       "    }\n",
       "\n",
       "    .dataframe thead th {\n",
       "        text-align: right;\n",
       "    }\n",
       "</style>\n",
       "<table border=\"1\" class=\"dataframe\">\n",
       "  <thead>\n",
       "    <tr style=\"text-align: right;\">\n",
       "      <th></th>\n",
       "      <th>MODELYEAR</th>\n",
       "      <th>MAKE</th>\n",
       "      <th>MODEL</th>\n",
       "      <th>VEHICLECLASS</th>\n",
       "      <th>ENGINESIZE</th>\n",
       "      <th>FUELCONSUMPTION</th>\n",
       "    </tr>\n",
       "  </thead>\n",
       "  <tbody>\n",
       "    <tr>\n",
       "      <th>0</th>\n",
       "      <td>2014</td>\n",
       "      <td>0</td>\n",
       "      <td>329</td>\n",
       "      <td>0</td>\n",
       "      <td>2.0</td>\n",
       "      <td>6.7</td>\n",
       "    </tr>\n",
       "    <tr>\n",
       "      <th>1</th>\n",
       "      <td>2014</td>\n",
       "      <td>0</td>\n",
       "      <td>329</td>\n",
       "      <td>0</td>\n",
       "      <td>2.4</td>\n",
       "      <td>7.7</td>\n",
       "    </tr>\n",
       "    <tr>\n",
       "      <th>2</th>\n",
       "      <td>2014</td>\n",
       "      <td>0</td>\n",
       "      <td>330</td>\n",
       "      <td>0</td>\n",
       "      <td>1.5</td>\n",
       "      <td>5.8</td>\n",
       "    </tr>\n",
       "    <tr>\n",
       "      <th>3</th>\n",
       "      <td>2014</td>\n",
       "      <td>0</td>\n",
       "      <td>389</td>\n",
       "      <td>11</td>\n",
       "      <td>3.5</td>\n",
       "      <td>9.1</td>\n",
       "    </tr>\n",
       "    <tr>\n",
       "      <th>4</th>\n",
       "      <td>2014</td>\n",
       "      <td>0</td>\n",
       "      <td>483</td>\n",
       "      <td>11</td>\n",
       "      <td>3.5</td>\n",
       "      <td>8.7</td>\n",
       "    </tr>\n",
       "    <tr>\n",
       "      <th>...</th>\n",
       "      <td>...</td>\n",
       "      <td>...</td>\n",
       "      <td>...</td>\n",
       "      <td>...</td>\n",
       "      <td>...</td>\n",
       "      <td>...</td>\n",
       "    </tr>\n",
       "    <tr>\n",
       "      <th>1062</th>\n",
       "      <td>2014</td>\n",
       "      <td>38</td>\n",
       "      <td>624</td>\n",
       "      <td>11</td>\n",
       "      <td>3.0</td>\n",
       "      <td>9.8</td>\n",
       "    </tr>\n",
       "    <tr>\n",
       "      <th>1063</th>\n",
       "      <td>2014</td>\n",
       "      <td>38</td>\n",
       "      <td>624</td>\n",
       "      <td>11</td>\n",
       "      <td>3.2</td>\n",
       "      <td>9.5</td>\n",
       "    </tr>\n",
       "    <tr>\n",
       "      <th>1064</th>\n",
       "      <td>2014</td>\n",
       "      <td>38</td>\n",
       "      <td>625</td>\n",
       "      <td>11</td>\n",
       "      <td>3.0</td>\n",
       "      <td>9.8</td>\n",
       "    </tr>\n",
       "    <tr>\n",
       "      <th>1065</th>\n",
       "      <td>2014</td>\n",
       "      <td>38</td>\n",
       "      <td>625</td>\n",
       "      <td>11</td>\n",
       "      <td>3.2</td>\n",
       "      <td>9.3</td>\n",
       "    </tr>\n",
       "    <tr>\n",
       "      <th>1066</th>\n",
       "      <td>2014</td>\n",
       "      <td>38</td>\n",
       "      <td>626</td>\n",
       "      <td>12</td>\n",
       "      <td>3.2</td>\n",
       "      <td>10.2</td>\n",
       "    </tr>\n",
       "  </tbody>\n",
       "</table>\n",
       "<p>1067 rows × 6 columns</p>\n",
       "</div>"
      ],
      "text/plain": [
       "      MODELYEAR  MAKE  MODEL  VEHICLECLASS  ENGINESIZE  FUELCONSUMPTION\n",
       "0          2014     0    329             0         2.0              6.7\n",
       "1          2014     0    329             0         2.4              7.7\n",
       "2          2014     0    330             0         1.5              5.8\n",
       "3          2014     0    389            11         3.5              9.1\n",
       "4          2014     0    483            11         3.5              8.7\n",
       "...         ...   ...    ...           ...         ...              ...\n",
       "1062       2014    38    624            11         3.0              9.8\n",
       "1063       2014    38    624            11         3.2              9.5\n",
       "1064       2014    38    625            11         3.0              9.8\n",
       "1065       2014    38    625            11         3.2              9.3\n",
       "1066       2014    38    626            12         3.2             10.2\n",
       "\n",
       "[1067 rows x 6 columns]"
      ]
     },
     "execution_count": 10,
     "metadata": {},
     "output_type": "execute_result"
    }
   ],
   "source": [
    "X"
   ]
  },
  {
   "cell_type": "code",
   "execution_count": 11,
   "metadata": {
    "colab": {
     "base_uri": "https://localhost:8080/",
     "height": 423
    },
    "id": "GrWMtDuKiVm_",
    "outputId": "bac758ed-4002-4d99-b5dd-337a835993e4"
   },
   "outputs": [
    {
     "data": {
      "text/html": [
       "<div>\n",
       "<style scoped>\n",
       "    .dataframe tbody tr th:only-of-type {\n",
       "        vertical-align: middle;\n",
       "    }\n",
       "\n",
       "    .dataframe tbody tr th {\n",
       "        vertical-align: top;\n",
       "    }\n",
       "\n",
       "    .dataframe thead th {\n",
       "        text-align: right;\n",
       "    }\n",
       "</style>\n",
       "<table border=\"1\" class=\"dataframe\">\n",
       "  <thead>\n",
       "    <tr style=\"text-align: right;\">\n",
       "      <th></th>\n",
       "      <th>CO2EMISSIONS</th>\n",
       "    </tr>\n",
       "  </thead>\n",
       "  <tbody>\n",
       "    <tr>\n",
       "      <th>0</th>\n",
       "      <td>196</td>\n",
       "    </tr>\n",
       "    <tr>\n",
       "      <th>1</th>\n",
       "      <td>221</td>\n",
       "    </tr>\n",
       "    <tr>\n",
       "      <th>2</th>\n",
       "      <td>136</td>\n",
       "    </tr>\n",
       "    <tr>\n",
       "      <th>3</th>\n",
       "      <td>255</td>\n",
       "    </tr>\n",
       "    <tr>\n",
       "      <th>4</th>\n",
       "      <td>244</td>\n",
       "    </tr>\n",
       "    <tr>\n",
       "      <th>...</th>\n",
       "      <td>...</td>\n",
       "    </tr>\n",
       "    <tr>\n",
       "      <th>1062</th>\n",
       "      <td>271</td>\n",
       "    </tr>\n",
       "    <tr>\n",
       "      <th>1063</th>\n",
       "      <td>264</td>\n",
       "    </tr>\n",
       "    <tr>\n",
       "      <th>1064</th>\n",
       "      <td>271</td>\n",
       "    </tr>\n",
       "    <tr>\n",
       "      <th>1065</th>\n",
       "      <td>260</td>\n",
       "    </tr>\n",
       "    <tr>\n",
       "      <th>1066</th>\n",
       "      <td>294</td>\n",
       "    </tr>\n",
       "  </tbody>\n",
       "</table>\n",
       "<p>1067 rows × 1 columns</p>\n",
       "</div>"
      ],
      "text/plain": [
       "      CO2EMISSIONS\n",
       "0              196\n",
       "1              221\n",
       "2              136\n",
       "3              255\n",
       "4              244\n",
       "...            ...\n",
       "1062           271\n",
       "1063           264\n",
       "1064           271\n",
       "1065           260\n",
       "1066           294\n",
       "\n",
       "[1067 rows x 1 columns]"
      ]
     },
     "execution_count": 11,
     "metadata": {},
     "output_type": "execute_result"
    }
   ],
   "source": [
    "y = df[['CO2EMISSIONS']]\n",
    "y"
   ]
  },
  {
   "cell_type": "code",
   "execution_count": 12,
   "metadata": {
    "colab": {
     "base_uri": "https://localhost:8080/"
    },
    "id": "d3EA_Fz9ieOK",
    "outputId": "a7394324-416c-4584-df1a-2c979edb4fbb"
   },
   "outputs": [
    {
     "data": {
      "text/plain": [
       "((1067, 6), (1067, 1))"
      ]
     },
     "execution_count": 12,
     "metadata": {},
     "output_type": "execute_result"
    }
   ],
   "source": [
    "X.shape, y.shape"
   ]
  },
  {
   "cell_type": "code",
   "execution_count": 13,
   "metadata": {
    "id": "ieFcIfrrijbV"
   },
   "outputs": [],
   "source": [
    "from sklearn.model_selection import train_test_split\n",
    "X_train, X_test, y_train, y_test = train_test_split(\n",
    "    X,\n",
    "    y,\n",
    "    test_size=0.33,\n",
    "    random_state=1119\n",
    ")"
   ]
  },
  {
   "cell_type": "code",
   "execution_count": 14,
   "metadata": {
    "colab": {
     "base_uri": "https://localhost:8080/"
    },
    "id": "oiI97TAUin3F",
    "outputId": "e3ea15d0-200c-43d0-8595-1e9628eb6d44"
   },
   "outputs": [
    {
     "data": {
      "text/plain": [
       "((714, 6), (353, 6))"
      ]
     },
     "execution_count": 14,
     "metadata": {},
     "output_type": "execute_result"
    }
   ],
   "source": [
    "X_train.shape, X_test.shape"
   ]
  },
  {
   "cell_type": "code",
   "execution_count": 15,
   "metadata": {
    "colab": {
     "base_uri": "https://localhost:8080/"
    },
    "id": "hbnfLoluitmX",
    "outputId": "3e937640-d571-4efe-ebf4-3c33dc24c088"
   },
   "outputs": [
    {
     "data": {
      "text/plain": [
       "((714, 1), (353, 1))"
      ]
     },
     "execution_count": 15,
     "metadata": {},
     "output_type": "execute_result"
    }
   ],
   "source": [
    "y_train.shape, y_test.shape"
   ]
  },
  {
   "cell_type": "markdown",
   "metadata": {
    "id": "KpE3Y62vi9ZK"
   },
   "source": [
    "## **Feature Scaling**"
   ]
  },
  {
   "cell_type": "code",
   "execution_count": 16,
   "metadata": {
    "id": "Qeah3JLfi81x"
   },
   "outputs": [],
   "source": [
    "def standard_scaler(X):\n",
    "    mean = np.mean(X, axis=0) \n",
    "    std = np.std(X, axis=0)   \n",
    "\n",
    "    X_scaled = (X - mean) / std\n",
    "\n",
    "    return X_scaled, mean, std"
   ]
  },
  {
   "cell_type": "code",
   "execution_count": 17,
   "metadata": {
    "id": "gOUb_Rk0jWrs"
   },
   "outputs": [],
   "source": [
    "X_train_processed, X_train_mean, X_train_std = standard_scaler(X_train)"
   ]
  },
  {
   "cell_type": "code",
   "execution_count": 18,
   "metadata": {
    "id": "UfPLS2lVjnCP"
   },
   "outputs": [],
   "source": [
    "X_train_processed = X_train_processed.fillna(0)"
   ]
  },
  {
   "cell_type": "code",
   "execution_count": 19,
   "metadata": {
    "colab": {
     "base_uri": "https://localhost:8080/",
     "height": 423
    },
    "id": "nd8iIA6rkVrm",
    "outputId": "71ce6782-d72b-423b-de9c-fd6c171f5ad7"
   },
   "outputs": [
    {
     "data": {
      "text/html": [
       "<div>\n",
       "<style scoped>\n",
       "    .dataframe tbody tr th:only-of-type {\n",
       "        vertical-align: middle;\n",
       "    }\n",
       "\n",
       "    .dataframe tbody tr th {\n",
       "        vertical-align: top;\n",
       "    }\n",
       "\n",
       "    .dataframe thead th {\n",
       "        text-align: right;\n",
       "    }\n",
       "</style>\n",
       "<table border=\"1\" class=\"dataframe\">\n",
       "  <thead>\n",
       "    <tr style=\"text-align: right;\">\n",
       "      <th></th>\n",
       "      <th>MODELYEAR</th>\n",
       "      <th>MAKE</th>\n",
       "      <th>MODEL</th>\n",
       "      <th>VEHICLECLASS</th>\n",
       "      <th>ENGINESIZE</th>\n",
       "      <th>FUELCONSUMPTION</th>\n",
       "    </tr>\n",
       "  </thead>\n",
       "  <tbody>\n",
       "    <tr>\n",
       "      <th>841</th>\n",
       "      <td>0.0</td>\n",
       "      <td>0.990654</td>\n",
       "      <td>-0.220315</td>\n",
       "      <td>-0.276949</td>\n",
       "      <td>0.473418</td>\n",
       "      <td>0.247778</td>\n",
       "    </tr>\n",
       "    <tr>\n",
       "      <th>319</th>\n",
       "      <td>0.0</td>\n",
       "      <td>-0.757650</td>\n",
       "      <td>-0.652294</td>\n",
       "      <td>-0.871364</td>\n",
       "      <td>-0.675091</td>\n",
       "      <td>-0.706030</td>\n",
       "    </tr>\n",
       "    <tr>\n",
       "      <th>746</th>\n",
       "      <td>0.0</td>\n",
       "      <td>0.714606</td>\n",
       "      <td>-0.588297</td>\n",
       "      <td>-0.871364</td>\n",
       "      <td>0.114509</td>\n",
       "      <td>-0.564725</td>\n",
       "    </tr>\n",
       "    <tr>\n",
       "      <th>214</th>\n",
       "      <td>0.0</td>\n",
       "      <td>-0.941682</td>\n",
       "      <td>-0.401639</td>\n",
       "      <td>1.506294</td>\n",
       "      <td>1.406582</td>\n",
       "      <td>3.285834</td>\n",
       "    </tr>\n",
       "    <tr>\n",
       "      <th>272</th>\n",
       "      <td>0.0</td>\n",
       "      <td>-0.941682</td>\n",
       "      <td>1.363611</td>\n",
       "      <td>0.911880</td>\n",
       "      <td>-1.392909</td>\n",
       "      <td>-0.953313</td>\n",
       "    </tr>\n",
       "    <tr>\n",
       "      <th>...</th>\n",
       "      <td>...</td>\n",
       "      <td>...</td>\n",
       "      <td>...</td>\n",
       "      <td>...</td>\n",
       "      <td>...</td>\n",
       "      <td>...</td>\n",
       "    </tr>\n",
       "    <tr>\n",
       "      <th>639</th>\n",
       "      <td>0.0</td>\n",
       "      <td>0.254526</td>\n",
       "      <td>0.723641</td>\n",
       "      <td>0.911880</td>\n",
       "      <td>-0.962218</td>\n",
       "      <td>-0.564725</td>\n",
       "    </tr>\n",
       "    <tr>\n",
       "      <th>73</th>\n",
       "      <td>0.0</td>\n",
       "      <td>-1.309746</td>\n",
       "      <td>-0.876283</td>\n",
       "      <td>0.713741</td>\n",
       "      <td>1.909055</td>\n",
       "      <td>0.954303</td>\n",
       "    </tr>\n",
       "    <tr>\n",
       "      <th>143</th>\n",
       "      <td>0.0</td>\n",
       "      <td>-1.125714</td>\n",
       "      <td>-0.492302</td>\n",
       "      <td>0.911880</td>\n",
       "      <td>-1.392909</td>\n",
       "      <td>-0.529399</td>\n",
       "    </tr>\n",
       "    <tr>\n",
       "      <th>982</th>\n",
       "      <td>0.0</td>\n",
       "      <td>1.726782</td>\n",
       "      <td>-0.038990</td>\n",
       "      <td>0.911880</td>\n",
       "      <td>-0.459745</td>\n",
       "      <td>-0.317441</td>\n",
       "    </tr>\n",
       "    <tr>\n",
       "      <th>380</th>\n",
       "      <td>0.0</td>\n",
       "      <td>-0.573618</td>\n",
       "      <td>-0.337642</td>\n",
       "      <td>-0.078811</td>\n",
       "      <td>1.191236</td>\n",
       "      <td>2.543983</td>\n",
       "    </tr>\n",
       "  </tbody>\n",
       "</table>\n",
       "<p>714 rows × 6 columns</p>\n",
       "</div>"
      ],
      "text/plain": [
       "     MODELYEAR      MAKE     MODEL  VEHICLECLASS  ENGINESIZE  FUELCONSUMPTION\n",
       "841        0.0  0.990654 -0.220315     -0.276949    0.473418         0.247778\n",
       "319        0.0 -0.757650 -0.652294     -0.871364   -0.675091        -0.706030\n",
       "746        0.0  0.714606 -0.588297     -0.871364    0.114509        -0.564725\n",
       "214        0.0 -0.941682 -0.401639      1.506294    1.406582         3.285834\n",
       "272        0.0 -0.941682  1.363611      0.911880   -1.392909        -0.953313\n",
       "..         ...       ...       ...           ...         ...              ...\n",
       "639        0.0  0.254526  0.723641      0.911880   -0.962218        -0.564725\n",
       "73         0.0 -1.309746 -0.876283      0.713741    1.909055         0.954303\n",
       "143        0.0 -1.125714 -0.492302      0.911880   -1.392909        -0.529399\n",
       "982        0.0  1.726782 -0.038990      0.911880   -0.459745        -0.317441\n",
       "380        0.0 -0.573618 -0.337642     -0.078811    1.191236         2.543983\n",
       "\n",
       "[714 rows x 6 columns]"
      ]
     },
     "execution_count": 19,
     "metadata": {},
     "output_type": "execute_result"
    }
   ],
   "source": [
    "X_train_processed"
   ]
  },
  {
   "cell_type": "code",
   "execution_count": 20,
   "metadata": {
    "id": "JiTXrBK5khR5"
   },
   "outputs": [],
   "source": [
    "X_test_processed, X_test_mean, X_test_std = standard_scaler(X_test)"
   ]
  },
  {
   "cell_type": "code",
   "execution_count": 21,
   "metadata": {
    "colab": {
     "base_uri": "https://localhost:8080/",
     "height": 423
    },
    "id": "kh9ypR4Bksdf",
    "outputId": "a7b000b3-aa60-4387-e0c1-1bf2320c0b3c"
   },
   "outputs": [
    {
     "data": {
      "text/html": [
       "<div>\n",
       "<style scoped>\n",
       "    .dataframe tbody tr th:only-of-type {\n",
       "        vertical-align: middle;\n",
       "    }\n",
       "\n",
       "    .dataframe tbody tr th {\n",
       "        vertical-align: top;\n",
       "    }\n",
       "\n",
       "    .dataframe thead th {\n",
       "        text-align: right;\n",
       "    }\n",
       "</style>\n",
       "<table border=\"1\" class=\"dataframe\">\n",
       "  <thead>\n",
       "    <tr style=\"text-align: right;\">\n",
       "      <th></th>\n",
       "      <th>MODELYEAR</th>\n",
       "      <th>MAKE</th>\n",
       "      <th>MODEL</th>\n",
       "      <th>VEHICLECLASS</th>\n",
       "      <th>ENGINESIZE</th>\n",
       "      <th>FUELCONSUMPTION</th>\n",
       "    </tr>\n",
       "  </thead>\n",
       "  <tbody>\n",
       "    <tr>\n",
       "      <th>50</th>\n",
       "      <td>NaN</td>\n",
       "      <td>-1.374257</td>\n",
       "      <td>0.721626</td>\n",
       "      <td>1.309111</td>\n",
       "      <td>1.262563</td>\n",
       "      <td>0.690217</td>\n",
       "    </tr>\n",
       "    <tr>\n",
       "      <th>1005</th>\n",
       "      <td>NaN</td>\n",
       "      <td>1.699510</td>\n",
       "      <td>1.413852</td>\n",
       "      <td>-0.041542</td>\n",
       "      <td>1.605292</td>\n",
       "      <td>1.279536</td>\n",
       "    </tr>\n",
       "    <tr>\n",
       "      <th>391</th>\n",
       "      <td>NaN</td>\n",
       "      <td>-0.560613</td>\n",
       "      <td>-0.300981</td>\n",
       "      <td>-0.041542</td>\n",
       "      <td>1.948021</td>\n",
       "      <td>2.053017</td>\n",
       "    </tr>\n",
       "    <tr>\n",
       "      <th>725</th>\n",
       "      <td>NaN</td>\n",
       "      <td>0.705056</td>\n",
       "      <td>-1.134799</td>\n",
       "      <td>-1.199244</td>\n",
       "      <td>0.097285</td>\n",
       "      <td>0.616552</td>\n",
       "    </tr>\n",
       "    <tr>\n",
       "      <th>71</th>\n",
       "      <td>NaN</td>\n",
       "      <td>-1.283853</td>\n",
       "      <td>-0.846371</td>\n",
       "      <td>0.730260</td>\n",
       "      <td>1.810929</td>\n",
       "      <td>1.021709</td>\n",
       "    </tr>\n",
       "    <tr>\n",
       "      <th>...</th>\n",
       "      <td>...</td>\n",
       "      <td>...</td>\n",
       "      <td>...</td>\n",
       "      <td>...</td>\n",
       "      <td>...</td>\n",
       "      <td>...</td>\n",
       "    </tr>\n",
       "    <tr>\n",
       "      <th>342</th>\n",
       "      <td>NaN</td>\n",
       "      <td>-0.560613</td>\n",
       "      <td>-1.098090</td>\n",
       "      <td>-1.006294</td>\n",
       "      <td>-0.930902</td>\n",
       "      <td>-1.114572</td>\n",
       "    </tr>\n",
       "    <tr>\n",
       "      <th>288</th>\n",
       "      <td>NaN</td>\n",
       "      <td>-0.831828</td>\n",
       "      <td>-1.638236</td>\n",
       "      <td>-1.006294</td>\n",
       "      <td>0.165830</td>\n",
       "      <td>-0.635751</td>\n",
       "    </tr>\n",
       "    <tr>\n",
       "      <th>509</th>\n",
       "      <td>NaN</td>\n",
       "      <td>-0.289398</td>\n",
       "      <td>0.983833</td>\n",
       "      <td>0.923210</td>\n",
       "      <td>-0.039807</td>\n",
       "      <td>0.027233</td>\n",
       "    </tr>\n",
       "    <tr>\n",
       "      <th>949</th>\n",
       "      <td>NaN</td>\n",
       "      <td>1.609105</td>\n",
       "      <td>0.024156</td>\n",
       "      <td>-1.199244</td>\n",
       "      <td>-0.588173</td>\n",
       "      <td>0.027233</td>\n",
       "    </tr>\n",
       "    <tr>\n",
       "      <th>197</th>\n",
       "      <td>NaN</td>\n",
       "      <td>-0.922233</td>\n",
       "      <td>-0.725756</td>\n",
       "      <td>-0.813343</td>\n",
       "      <td>-1.342177</td>\n",
       "      <td>-1.151405</td>\n",
       "    </tr>\n",
       "  </tbody>\n",
       "</table>\n",
       "<p>353 rows × 6 columns</p>\n",
       "</div>"
      ],
      "text/plain": [
       "      MODELYEAR      MAKE     MODEL  VEHICLECLASS  ENGINESIZE  FUELCONSUMPTION\n",
       "50          NaN -1.374257  0.721626      1.309111    1.262563         0.690217\n",
       "1005        NaN  1.699510  1.413852     -0.041542    1.605292         1.279536\n",
       "391         NaN -0.560613 -0.300981     -0.041542    1.948021         2.053017\n",
       "725         NaN  0.705056 -1.134799     -1.199244    0.097285         0.616552\n",
       "71          NaN -1.283853 -0.846371      0.730260    1.810929         1.021709\n",
       "...         ...       ...       ...           ...         ...              ...\n",
       "342         NaN -0.560613 -1.098090     -1.006294   -0.930902        -1.114572\n",
       "288         NaN -0.831828 -1.638236     -1.006294    0.165830        -0.635751\n",
       "509         NaN -0.289398  0.983833      0.923210   -0.039807         0.027233\n",
       "949         NaN  1.609105  0.024156     -1.199244   -0.588173         0.027233\n",
       "197         NaN -0.922233 -0.725756     -0.813343   -1.342177        -1.151405\n",
       "\n",
       "[353 rows x 6 columns]"
      ]
     },
     "execution_count": 21,
     "metadata": {},
     "output_type": "execute_result"
    }
   ],
   "source": [
    "X_test_processed"
   ]
  },
  {
   "cell_type": "code",
   "execution_count": 22,
   "metadata": {
    "id": "ftvq1vqpkwV9"
   },
   "outputs": [],
   "source": [
    "X_test_processed = X_test_processed.fillna(0)"
   ]
  },
  {
   "cell_type": "code",
   "execution_count": 23,
   "metadata": {
    "colab": {
     "base_uri": "https://localhost:8080/",
     "height": 423
    },
    "id": "pfoA4g26k0cl",
    "outputId": "f83c918c-cfc6-4802-8a6b-8e4324869f9f"
   },
   "outputs": [
    {
     "data": {
      "text/html": [
       "<div>\n",
       "<style scoped>\n",
       "    .dataframe tbody tr th:only-of-type {\n",
       "        vertical-align: middle;\n",
       "    }\n",
       "\n",
       "    .dataframe tbody tr th {\n",
       "        vertical-align: top;\n",
       "    }\n",
       "\n",
       "    .dataframe thead th {\n",
       "        text-align: right;\n",
       "    }\n",
       "</style>\n",
       "<table border=\"1\" class=\"dataframe\">\n",
       "  <thead>\n",
       "    <tr style=\"text-align: right;\">\n",
       "      <th></th>\n",
       "      <th>MODELYEAR</th>\n",
       "      <th>MAKE</th>\n",
       "      <th>MODEL</th>\n",
       "      <th>VEHICLECLASS</th>\n",
       "      <th>ENGINESIZE</th>\n",
       "      <th>FUELCONSUMPTION</th>\n",
       "    </tr>\n",
       "  </thead>\n",
       "  <tbody>\n",
       "    <tr>\n",
       "      <th>50</th>\n",
       "      <td>0.0</td>\n",
       "      <td>-1.374257</td>\n",
       "      <td>0.721626</td>\n",
       "      <td>1.309111</td>\n",
       "      <td>1.262563</td>\n",
       "      <td>0.690217</td>\n",
       "    </tr>\n",
       "    <tr>\n",
       "      <th>1005</th>\n",
       "      <td>0.0</td>\n",
       "      <td>1.699510</td>\n",
       "      <td>1.413852</td>\n",
       "      <td>-0.041542</td>\n",
       "      <td>1.605292</td>\n",
       "      <td>1.279536</td>\n",
       "    </tr>\n",
       "    <tr>\n",
       "      <th>391</th>\n",
       "      <td>0.0</td>\n",
       "      <td>-0.560613</td>\n",
       "      <td>-0.300981</td>\n",
       "      <td>-0.041542</td>\n",
       "      <td>1.948021</td>\n",
       "      <td>2.053017</td>\n",
       "    </tr>\n",
       "    <tr>\n",
       "      <th>725</th>\n",
       "      <td>0.0</td>\n",
       "      <td>0.705056</td>\n",
       "      <td>-1.134799</td>\n",
       "      <td>-1.199244</td>\n",
       "      <td>0.097285</td>\n",
       "      <td>0.616552</td>\n",
       "    </tr>\n",
       "    <tr>\n",
       "      <th>71</th>\n",
       "      <td>0.0</td>\n",
       "      <td>-1.283853</td>\n",
       "      <td>-0.846371</td>\n",
       "      <td>0.730260</td>\n",
       "      <td>1.810929</td>\n",
       "      <td>1.021709</td>\n",
       "    </tr>\n",
       "    <tr>\n",
       "      <th>...</th>\n",
       "      <td>...</td>\n",
       "      <td>...</td>\n",
       "      <td>...</td>\n",
       "      <td>...</td>\n",
       "      <td>...</td>\n",
       "      <td>...</td>\n",
       "    </tr>\n",
       "    <tr>\n",
       "      <th>342</th>\n",
       "      <td>0.0</td>\n",
       "      <td>-0.560613</td>\n",
       "      <td>-1.098090</td>\n",
       "      <td>-1.006294</td>\n",
       "      <td>-0.930902</td>\n",
       "      <td>-1.114572</td>\n",
       "    </tr>\n",
       "    <tr>\n",
       "      <th>288</th>\n",
       "      <td>0.0</td>\n",
       "      <td>-0.831828</td>\n",
       "      <td>-1.638236</td>\n",
       "      <td>-1.006294</td>\n",
       "      <td>0.165830</td>\n",
       "      <td>-0.635751</td>\n",
       "    </tr>\n",
       "    <tr>\n",
       "      <th>509</th>\n",
       "      <td>0.0</td>\n",
       "      <td>-0.289398</td>\n",
       "      <td>0.983833</td>\n",
       "      <td>0.923210</td>\n",
       "      <td>-0.039807</td>\n",
       "      <td>0.027233</td>\n",
       "    </tr>\n",
       "    <tr>\n",
       "      <th>949</th>\n",
       "      <td>0.0</td>\n",
       "      <td>1.609105</td>\n",
       "      <td>0.024156</td>\n",
       "      <td>-1.199244</td>\n",
       "      <td>-0.588173</td>\n",
       "      <td>0.027233</td>\n",
       "    </tr>\n",
       "    <tr>\n",
       "      <th>197</th>\n",
       "      <td>0.0</td>\n",
       "      <td>-0.922233</td>\n",
       "      <td>-0.725756</td>\n",
       "      <td>-0.813343</td>\n",
       "      <td>-1.342177</td>\n",
       "      <td>-1.151405</td>\n",
       "    </tr>\n",
       "  </tbody>\n",
       "</table>\n",
       "<p>353 rows × 6 columns</p>\n",
       "</div>"
      ],
      "text/plain": [
       "      MODELYEAR      MAKE     MODEL  VEHICLECLASS  ENGINESIZE  FUELCONSUMPTION\n",
       "50          0.0 -1.374257  0.721626      1.309111    1.262563         0.690217\n",
       "1005        0.0  1.699510  1.413852     -0.041542    1.605292         1.279536\n",
       "391         0.0 -0.560613 -0.300981     -0.041542    1.948021         2.053017\n",
       "725         0.0  0.705056 -1.134799     -1.199244    0.097285         0.616552\n",
       "71          0.0 -1.283853 -0.846371      0.730260    1.810929         1.021709\n",
       "...         ...       ...       ...           ...         ...              ...\n",
       "342         0.0 -0.560613 -1.098090     -1.006294   -0.930902        -1.114572\n",
       "288         0.0 -0.831828 -1.638236     -1.006294    0.165830        -0.635751\n",
       "509         0.0 -0.289398  0.983833      0.923210   -0.039807         0.027233\n",
       "949         0.0  1.609105  0.024156     -1.199244   -0.588173         0.027233\n",
       "197         0.0 -0.922233 -0.725756     -0.813343   -1.342177        -1.151405\n",
       "\n",
       "[353 rows x 6 columns]"
      ]
     },
     "execution_count": 23,
     "metadata": {},
     "output_type": "execute_result"
    }
   ],
   "source": [
    "X_test_processed"
   ]
  },
  {
   "cell_type": "markdown",
   "metadata": {
    "id": "F5CwAxJckQW7"
   },
   "source": [
    "##Linear Regression"
   ]
  },
  {
   "cell_type": "code",
   "execution_count": 24,
   "metadata": {
    "id": "cBxqFGO7kRJM"
   },
   "outputs": [],
   "source": [
    "from sklearn.metrics import r2_score"
   ]
  },
  {
   "cell_type": "code",
   "execution_count": 25,
   "metadata": {
    "id": "qsWuSqJikF8q"
   },
   "outputs": [],
   "source": [
    "class CustomLinearRegression:\n",
    "    def __init__(self, X_data, y_target, learning_rate=0.01, num_epochs=10000):\n",
    "        self.num_samples = X_data.shape[0]\n",
    "        self.X_data = np.c_[np.ones((self.num_samples, 1)), X_data]\n",
    "        self.y_target = y_target\n",
    "        self.learning_rate = learning_rate\n",
    "        self.num_epochs = num_epochs\n",
    "\n",
    "        # Initial weights\n",
    "        self.theta = np.random.randn(self.X_data.shape[1], 1)\n",
    "        self.losses = []\n",
    "\n",
    "    def compute_loss(self, y_pred, y_target):\n",
    "        loss = (y_pred-y_target)**2\n",
    "        loss = np.mean(loss)\n",
    "        return loss\n",
    "\n",
    "    def predict(self, X_data):\n",
    "        try:\n",
    "            y_pred = X_data.dot(self.theta)\n",
    "        except:\n",
    "            X_data = np.c_[np.ones((X_data.shape[0], 1)), X_data]\n",
    "            y_pred = X_data.dot(self.theta)\n",
    "        return y_pred\n",
    "\n",
    "    def fit(self):\n",
    "        for epoch in range(self.num_epochs):\n",
    "            # predict\n",
    "            y_pred = self.predict(self.X_data)\n",
    "\n",
    "            # compute loss\n",
    "            loss = self.compute_loss(y_pred, self.y_target)\n",
    "            self.losses.append(loss)\n",
    "\n",
    "            # compute gradient\n",
    "            loss_grd = 2*(y_pred-self.y_target)/self.num_samples\n",
    "            gradients = self.X_data.T.dot(loss_grd)\n",
    "\n",
    "            # update weight\n",
    "            self.theta = self.theta - self.learning_rate*gradients\n",
    "\n",
    "            if (epoch % 50) == 0:\n",
    "                print(f'Epoch: {epoch} - Loss: {loss}')\n",
    "\n",
    "        return {\n",
    "            'loss': sum(self.losses)/len(self.losses),\n",
    "            'weight': self.theta\n",
    "        }\n",
    "\n",
    "    def plot_loss(self):\n",
    "        \"\"\"\n",
    "        Hàm vẽ đồ thị theo dõi loss trong quá trình huấn luyện.\n",
    "        \"\"\"\n",
    "        plt.figure(figsize=(8, 6))\n",
    "        plt.plot(range(self.num_epochs), self.losses, label='Loss')\n",
    "        plt.xlabel('Epoch')\n",
    "        plt.ylabel('Loss')\n",
    "        plt.title('Loss over Epochs')\n",
    "        plt.legend()\n",
    "        plt.grid(True)\n",
    "        plt.show()\n",
    "\n",
    "\n",
    "    def plot_predictions(self):\n",
    "        \"\"\"\n",
    "        Vẽ đồ thị hiển thị mối quan hệ giữa giá trị dự đoán và giá trị thực tế.\n",
    "        \"\"\"\n",
    "        y_pred = self.predict(self.X_data)  # Dự đoán giá trị\n",
    "        plt.figure(figsize=(8, 6))\n",
    "        plt.scatter(self.y_target, y_pred, alpha=0.7, color='blue', label='Predictions')\n",
    "        plt.plot([self.y_target.min(), self.y_target.max()], [self.y_target.min(), self.y_target.max()],\n",
    "                 color='red', linewidth=2, label='Perfect Fit')  # Đường lý tưởng (y = x)\n",
    "        plt.xlabel('Actual Values (y)')\n",
    "        plt.ylabel('Predicted Values (y_pred)')\n",
    "        plt.title('Actual vs Predicted Values')\n",
    "        plt.legend()\n",
    "        plt.grid(True)\n",
    "        plt.show()\n"
   ]
  },
  {
   "cell_type": "code",
   "execution_count": 26,
   "metadata": {
    "colab": {
     "base_uri": "https://localhost:8080/"
    },
    "id": "8PjKm1jbkHqt",
    "outputId": "fca98e47-414f-42a9-d851-b5719fd1a908"
   },
   "outputs": [
    {
     "name": "stderr",
     "output_type": "stream",
     "text": [
      "c:\\Users\\han\\AppData\\Local\\Programs\\Python\\Python310\\lib\\site-packages\\numpy\\core\\fromnumeric.py:3430: FutureWarning: In a future version, DataFrame.mean(axis=None) will return a scalar mean over the entire DataFrame. To retain the old behavior, use 'frame.mean(axis=0)' or just 'frame.mean()'\n",
      "  return mean(axis=axis, dtype=dtype, out=out, **kwargs)\n"
     ]
    },
    {
     "name": "stdout",
     "output_type": "stream",
     "text": [
      "Epoch: 0 - Loss: CO2EMISSIONS    69582.47748\n",
      "dtype: float64\n",
      "Epoch: 50 - Loss: CO2EMISSIONS    545.66172\n",
      "dtype: float64\n",
      "Epoch: 100 - Loss: CO2EMISSIONS    545.530976\n",
      "dtype: float64\n",
      "Epoch: 150 - Loss: CO2EMISSIONS    545.528852\n",
      "dtype: float64\n",
      "Epoch: 200 - Loss: CO2EMISSIONS    545.528818\n",
      "dtype: float64\n",
      "Epoch: 250 - Loss: CO2EMISSIONS    545.528817\n",
      "dtype: float64\n",
      "Epoch: 300 - Loss: CO2EMISSIONS    545.528817\n",
      "dtype: float64\n",
      "Epoch: 350 - Loss: CO2EMISSIONS    545.528817\n",
      "dtype: float64\n",
      "Epoch: 400 - Loss: CO2EMISSIONS    545.528817\n",
      "dtype: float64\n",
      "Epoch: 450 - Loss: CO2EMISSIONS    545.528817\n",
      "dtype: float64\n"
     ]
    },
    {
     "data": {
      "text/plain": [
       "{'loss': CO2EMISSIONS    922.342257\n",
       " dtype: float64,\n",
       " 'weight': array([[256.36694678],\n",
       "        [ -0.3776418 ],\n",
       "        [ -1.00924907],\n",
       "        [  1.63829561],\n",
       "        [  5.74121074],\n",
       "        [ 34.60556667],\n",
       "        [ 23.51677709]])}"
      ]
     },
     "execution_count": 26,
     "metadata": {},
     "output_type": "execute_result"
    }
   ],
   "source": [
    "linear_model = CustomLinearRegression(X_train_processed, y_train, learning_rate=0.1, num_epochs=500)\n",
    "linear_model.fit()\n"
   ]
  },
  {
   "cell_type": "code",
   "execution_count": 27,
   "metadata": {
    "colab": {
     "base_uri": "https://localhost:8080/",
     "height": 564
    },
    "id": "U-xGnZromGF_",
    "outputId": "05a467ae-5528-41da-ad90-b75f2f9a07a9"
   },
   "outputs": [
    {
     "data": {
      "image/png": "[encoded data removed]",
      "text/plain": [
       "<Figure size 800x600 with 1 Axes>"
      ]
     },
     "metadata": {},
     "output_type": "display_data"
    }
   ],
   "source": [
    "linear_model.plot_loss()"
   ]
  },
  {
   "cell_type": "code",
   "execution_count": 28,
   "metadata": {
    "colab": {
     "base_uri": "https://localhost:8080/",
     "height": 564
    },
    "id": "b7JZXaj5mRfw",
    "outputId": "f32a9ded-7576-489f-90ba-1f1e8e5c17d2"
   },
   "outputs": [
    {
     "data": {
      "image/png": "[encoded data removed]",
      "text/plain": [
       "<Figure size 800x600 with 1 Axes>"
      ]
     },
     "metadata": {},
     "output_type": "display_data"
    }
   ],
   "source": [
    "linear_model.plot_predictions()"
   ]
  },
  {
   "cell_type": "code",
   "execution_count": 29,
   "metadata": {
    "colab": {
     "base_uri": "https://localhost:8080/"
    },
    "id": "U-_lAREzk7sN",
    "outputId": "25e0b11a-81d8-47a0-8aa3-b190e85b02a2"
   },
   "outputs": [
    {
     "data": {
      "text/plain": [
       "0.8438733142629573"
      ]
     },
     "execution_count": 29,
     "metadata": {},
     "output_type": "execute_result"
    }
   ],
   "source": [
    "preds = linear_model.predict(X_test_processed)\n",
    "r2_score(y_test, preds)"
   ]
  }
 ],
 "metadata": {
  "colab": {
   "provenance": []
  },
  "kernelspec": {
   "display_name": "Python 3",
   "name": "python3"
  },
  "language_info": {
   "codemirror_mode": {
    "name": "ipython",
    "version": 3
   },
   "file_extension": ".py",
   "mimetype": "text/x-python",
   "name": "python",
   "nbconvert_exporter": "python",
   "pygments_lexer": "ipython3",
   "version": "3.10.4"
  }
 },
 "nbformat": 4,
 "nbformat_minor": 0
}
